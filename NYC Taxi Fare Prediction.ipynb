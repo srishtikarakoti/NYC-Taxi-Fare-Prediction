{
 "cells": [
  {
   "cell_type": "markdown",
   "metadata": {
    "id": "AhW2yg4DzRFY"
   },
   "source": [
    "### **Introduction**\n",
    "\n",
    "In this project, we \"enter\" a Kaggle competition to build a model to predict NYC taxi fares. The competition expired so we can't formally submit and show our scores so here we select a subset of training data and build an ensemble model to predict the fare. This is a regression problem so our performance is measured in RMSE, or root mean-squared error. We take the differences between our predictions and the actual fares and square root of the square of this value. Taking the square of the error provides more insight than the absolute value of difference because it provides more penalty to estimates with larger error and rewards estimates with smaller error. The features provided in the training data proved to be very poor predictors of taxi fare so we had to engineer our own features. We used several distance features because distance is the predominant driver of fare prices, all of which were calculated from pickup and dropoff GPS coordinates, along with identifying airports as hotspots for more expensive fares. \n",
    "\n",
    "https://www.kaggle.com/c/new-york-city-taxi-fare-prediction/overview"
   ]
  },
  {
   "cell_type": "markdown",
   "metadata": {
    "id": "IG2mzMLIYjek"
   },
   "source": [
    "### **Reading Data**"
   ]
  },
  {
   "cell_type": "code",
   "execution_count": null,
   "metadata": {
    "id": "gYjl6201HFv1"
   },
   "outputs": [],
   "source": [
    "import pandas as pd\n",
    "import numpy as np\n",
    "import pickle\n",
    "import glob\n",
    "import json\n",
    "from xgboost import XGBRegressor\n",
    "import urllib.request"
   ]
  },
  {
   "cell_type": "code",
   "execution_count": null,
   "metadata": {
    "id": "h7XMrEmZafuB"
   },
   "outputs": [],
   "source": [
    "# train_filename = \"train.csv\"\n",
    "# chunk_size = 4000000\n",
    "# separator = \",\"\n",
    "\n",
    "# reader = pd.read_csv(train_filename,sep=separator,chunksize=chunk_size, low_memory=False)    \n",
    "\n",
    "\n",
    "# for i, chunk in enumerate(reader):\n",
    "#     out_file = \"data_{}.pkl\".format(i+1)\n",
    "#     with open(out_file, \"wb\") as f:\n",
    "#         pickle.dump(chunk,f,pickle.HIGHEST_PROTOCOL)\n"
   ]
  },
  {
   "cell_type": "markdown",
   "metadata": {
    "id": "En9nwoDZvbFJ"
   },
   "source": [
    "Above, we read in the training CSV file and break it up into smaller files so we only needed to load a very small subset of the data when training and testing our model. Ultimately we commented out the code because it takes too long to upload the train.csv file to Colab, we left it here commented out to show how we generated our Pickle file."
   ]
  },
  {
   "cell_type": "markdown",
   "metadata": {
    "id": "DtqXw3goYx_U"
   },
   "source": [
    "### **Correlation Exploration**"
   ]
  },
  {
   "cell_type": "code",
   "execution_count": null,
   "metadata": {
    "id": "aR0t3J2ambX0"
   },
   "outputs": [],
   "source": [
    "jfk_coords = [40.64, 73.78]\n",
    "ewr_coords = [40.69, 74.17]\n",
    "lga_coords = [40.78, 73.87]"
   ]
  },
  {
   "cell_type": "markdown",
   "metadata": {
    "id": "4CEf2LoxxPK_"
   },
   "source": [
    "One of the most decisive factors in deciding which features to include in training our models is the feature correlation matrix. This matrix computes the covariances between every feature in our training data and then normalizes it to a coefficient between +1 and -1. +1 indicates a strong linear relationship, where one feature moves the other feature moves at exactly the same slope. A value of 0 indicates no relationship and a value of -1 indicates a polar opposite relationship. We explored to see if there was any correlation between taxi fares from transit hubs and found that there is a correlation coefficient of 0.25 between airports and taxi fares. We tried this same approach with Port Authority, Penn Station, and Grand Central but none had any positive impact on performance."
   ]
  },
  {
   "cell_type": "markdown",
   "metadata": {
    "id": "TsfQMuQwZHpB"
   },
   "source": [
    "### **Added Manhattan and Euclidean Features**"
   ]
  },
  {
   "cell_type": "code",
   "execution_count": null,
   "metadata": {
    "id": "f2_w5UiWb56F"
   },
   "outputs": [],
   "source": [
    "def manhattan_distance(pickup_longitude, pickup_latitude, dropoff_longitude, dropoff_latitude):\n",
    "  return ((dropoff_longitude - pickup_longitude).abs() + (dropoff_latitude - pickup_latitude).abs())"
   ]
  },
  {
   "cell_type": "code",
   "execution_count": null,
   "metadata": {
    "id": "VecqbahgcDSM"
   },
   "outputs": [],
   "source": [
    "def euclidean_distance(pickup_longitude, pickup_latitude, dropoff_longitude, dropoff_latitude):\n",
    "  return np.sqrt(((pickup_longitude-dropoff_longitude)**2) + ((pickup_latitude-dropoff_latitude)**2))"
   ]
  },
  {
   "cell_type": "markdown",
   "metadata": {
    "id": "WCAOt2OUxziB"
   },
   "source": [
    "Here, we compute the Manhattan and Euclidean distances. Distance is the single best predictor we found for computing taxi fare with Pearson correlation coefficients above 0.8. We decided to use both Manhattan and Euclidean distances as features."
   ]
  },
  {
   "cell_type": "code",
   "execution_count": null,
   "metadata": {
    "id": "gfIepFvbcN64"
   },
   "outputs": [],
   "source": [
    "def fix_negative_predictions(pred):\n",
    "    for i in range(len(pred)):\n",
    "        if pred[i] < 0:\n",
    "            pred[i] = pred.mean()\n",
    "    return pred"
   ]
  },
  {
   "cell_type": "markdown",
   "metadata": {
    "id": "akscew2Zyf01"
   },
   "source": [
    "If a prediction is negative we will change it to the mean fare value. In the case of taxi fares mean estimates are more reliable than median estimates. Note that this is only used for predictions on the test data set which we don't use here because the Kaggle competition already closed."
   ]
  },
  {
   "cell_type": "markdown",
   "metadata": {
    "id": "IslpjGcFmj0S"
   },
   "source": [
    "### **Trim Data**"
   ]
  },
  {
   "cell_type": "code",
   "execution_count": null,
   "metadata": {
    "id": "Fa24z4OgaxSN"
   },
   "outputs": [],
   "source": [
    "\n",
    "data_p_files=[]\n",
    "for name in glob.glob(\"data_1.pkl\"):\n",
    "   data_p_files.append(name)\n",
    "\n",
    "train_df = pd.DataFrame([])\n",
    "for i in range(len(data_p_files)):\n",
    "    train_df = train_df.append(pd.read_pickle(data_p_files[i]),ignore_index=True)\n",
    "train_df.dropna(inplace=True)\n"
   ]
  },
  {
   "cell_type": "markdown",
   "metadata": {
    "id": "DsL60iKcyxjG"
   },
   "source": [
    "There are too many entries in the dataset to train a model based on all 55 million of them. That would also lead to overfitting so we decided to trim it down to 4 million records for simplicity. The subset of records we are using is stored in a .pkl file hosted in an AWS S3 bucket for resiliency."
   ]
  },
  {
   "cell_type": "markdown",
   "metadata": {
    "id": "cg6KeS0snaDQ"
   },
   "source": [
    "### **Coordinate Manipulations**"
   ]
  },
  {
   "cell_type": "code",
   "execution_count": null,
   "metadata": {
    "id": "qckBG0wVbvXZ"
   },
   "outputs": [],
   "source": [
    "\n",
    "train_df['dropoff_latitude'] = abs(train_df['dropoff_latitude'])\n",
    "train_df['dropoff_longitude'] = abs(train_df['dropoff_longitude'])\n",
    "train_df['pickup_latitude'] = abs(train_df['pickup_latitude'])\n",
    "train_df['pickup_longitude'] = abs(train_df['pickup_longitude'])"
   ]
  },
  {
   "cell_type": "markdown",
   "metadata": {
    "id": "_2sfmYupzGi4"
   },
   "source": [
    "We take the absolute values of all coordinates for computational simplicity. In NYC longitude coordinates are always negative and we tried many different coordinate manipulations so for performance and consistency we took the negative longitude coordinates and made them positive."
   ]
  },
  {
   "cell_type": "code",
   "execution_count": null,
   "metadata": {
    "id": "HtFhCAgHa-mW"
   },
   "outputs": [],
   "source": [
    "\n",
    "train_df['rounded_pickup_longitude'] = round(train_df['pickup_longitude'], 2)\n",
    "train_df['rounded_pickup_latitude'] =  round(train_df['pickup_latitude'], 2)\n",
    "train_df['rounded_dropoff_longitude'] = round(train_df['dropoff_longitude'], 2)\n",
    "train_df['rounded_dropoff_latitude'] =  round(train_df['dropoff_latitude'], 2)\n",
    "\n",
    "\n",
    "train_df.loc[(train_df['rounded_pickup_latitude'] == jfk_coords[0]) & (train_df['rounded_pickup_longitude'] == jfk_coords[1]), 'airport'] = 1\n",
    "train_df.loc[(train_df['rounded_dropoff_latitude'] == jfk_coords[0]) & (train_df['rounded_dropoff_longitude'] == jfk_coords[1]), 'airport'] = 1\n",
    "train_df.loc[(train_df['rounded_pickup_latitude'] == ewr_coords[0]) & (train_df['rounded_pickup_longitude'] == ewr_coords[1]), 'airport'] = 1 \n",
    "train_df.loc[(train_df['rounded_dropoff_latitude'] == ewr_coords[0]) & (train_df['rounded_dropoff_longitude'] == ewr_coords[1]), 'airport'] = 1\n",
    "train_df.loc[(train_df['rounded_pickup_latitude'] == lga_coords[0]) & (train_df['rounded_pickup_longitude'] == lga_coords[1]), 'airport'] = 1\n",
    "train_df.loc[(train_df['rounded_dropoff_latitude'] == lga_coords[0]) & (train_df['rounded_dropoff_longitude'] == lga_coords[1]), 'airport'] = 1 \n",
    "train_df['airport'].fillna(0, inplace=True)\n"
   ]
  },
  {
   "cell_type": "markdown",
   "metadata": {
    "id": "zWCmp99Dzl24"
   },
   "source": [
    "We round coordinates to 2 decimal places to capture a wider area around the airports to get as many true positives as possible when determing whether or not a fare was to/from the airport. Since fares from airports, especially JFK, were such strong indicators of higher taxi fares it is key to emphasize precision over recall."
   ]
  },
  {
   "cell_type": "code",
   "execution_count": null,
   "metadata": {
    "id": "za5y9Rl2cxGW"
   },
   "outputs": [],
   "source": [
    "\n",
    "train_df['latitude_distance'] = abs(train_df['dropoff_latitude'] - train_df['pickup_latitude'])\n",
    "train_df['longitude_distance'] = abs(train_df['dropoff_longitude'] - train_df['pickup_latitude'])\n",
    "train_df['euclidean_distance'] = euclidean_distance(train_df['pickup_longitude'], train_df['pickup_latitude'], train_df['dropoff_longitude'], train_df['dropoff_latitude'])\n",
    "train_df['manhattan_distance'] = manhattan_distance(train_df['pickup_longitude'], train_df['pickup_latitude'], train_df['dropoff_longitude'], train_df['dropoff_latitude'])\n",
    "\n"
   ]
  },
  {
   "cell_type": "markdown",
   "metadata": {
    "id": "iRypOS1k0muI"
   },
   "source": [
    "Here, we calculate both the Manhattan and Euclidean distances along with longitude and latitude distances. As mentioned previously, Manhattan and Euclidean distances provided strong correlation but latitude distance also has a strong correlation coefficient of just under 0.6."
   ]
  },
  {
   "cell_type": "markdown",
   "metadata": {
    "id": "XUl4nMlsnFwn"
   },
   "source": [
    "### **Trim Data**"
   ]
  },
  {
   "cell_type": "code",
   "execution_count": null,
   "metadata": {
    "id": "TR27yLXOcRKo"
   },
   "outputs": [],
   "source": [
    "\n",
    "upper_bound = train_df['manhattan_distance'].quantile(0.99)\n",
    "lower_bound = train_df['manhattan_distance'].quantile(0.01)\n",
    "train_df['manhattan_distance'] = train_df['manhattan_distance'] * 0.25\n",
    "train_df['euclidean_distance'] = train_df['euclidean_distance'] * 0.25\n",
    "train_df['latitude_distance'] = train_df['latitude_distance'] * 0.25\n",
    "train_df['longitude_distance'] = train_df['longitude_distance'] * 0.25\n",
    "train_df.drop(train_df[train_df['manhattan_distance'] > upper_bound].index, inplace=True)\n",
    "train_df.drop(train_df[train_df['manhattan_distance'] < lower_bound].index, inplace=True)\n",
    "train_df = train_df.replace([np.inf, -np.inf], np.nan)\n"
   ]
  },
  {
   "cell_type": "markdown",
   "metadata": {
    "id": "Bnv7F_IC1lau"
   },
   "source": [
    "Here we trim the top and bottom 1% of entries by Manhattan distance and scale all distance metrics down significantly to avoid weighing them too heavily relative to other features. By trimming outliers we are also enabling our model to put less emphasis on extreme values and letting it generalize much better."
   ]
  },
  {
   "cell_type": "code",
   "execution_count": null,
   "metadata": {
    "colab": {
     "base_uri": "https://localhost:8080/",
     "height": 153
    },
    "id": "gqEYEN0GqURr",
    "outputId": "872548c5-8850-4ac1-ca85-9b7665eb5938"
   },
   "outputs": [
    {
     "name": "stdout",
     "output_type": "stream",
     "text": [
      "[14:10:05] WARNING: /workspace/src/objective/regression_obj.cu:152: reg:linear is now deprecated in favor of reg:squarederror.\n"
     ]
    },
    {
     "data": {
      "text/plain": [
       "XGBRegressor(base_score=0.5, booster='gbtree', colsample_bylevel=1,\n",
       "             colsample_bynode=1, colsample_bytree=1, gamma=0,\n",
       "             importance_type='gain', learning_rate=0.1, max_delta_step=0,\n",
       "             max_depth=3, min_child_weight=1, missing=None, n_estimators=100,\n",
       "             n_jobs=1, nthread=None, objective='reg:linear', random_state=0,\n",
       "             reg_alpha=0, reg_lambda=1, scale_pos_weight=1, seed=None,\n",
       "             silent=None, subsample=1, verbosity=1)"
      ]
     },
     "execution_count": 12,
     "metadata": {
      "tags": []
     },
     "output_type": "execute_result"
    }
   ],
   "source": [
    "train_df.dropna(inplace=True)\n",
    "train_df.drop(['pickup_datetime', 'key', 'dropoff_latitude', 'dropoff_longitude', 'pickup_latitude', 'pickup_longitude', 'passenger_count'], axis=1, inplace=True)\n",
    "label = \"fare_amount\"\n",
    "X_train = train_df.drop(label, axis=1)\n",
    "y_train = train_df[label]\n",
    "y_train=y_train.astype('float64')\n",
    "\n",
    "reg = XGBRegressor()\n",
    "reg.fit(X_train, y_train)\n"
   ]
  },
  {
   "cell_type": "markdown",
   "metadata": {
    "id": "Zpcf90ss00kq"
   },
   "source": [
    "### **Conclusion**\n",
    "\n",
    "Here we drop records with missing entries along with other weakly correlated features that don't improve our model. We chose over a dozen Scikit  regression models but none proved to be nearly as effective as XGBoost. It gave us a best RMSE of 3.4976 on the test data while no other models scored less than 5. XGBoost is an ensemble method which has been dominating machine learning algorithm performance and is frequently the best performer in Kaggle competitions. XGBoost stands for eXtreme Gradient Boosting, uses a gradient boosted ensemble decision tree method that trains many learners with the ultimate prediction being the prediction the most learners selected. It trades off \"frills\" and extra features and is focused almost exclusively on speed and performance. \n",
    "\n",
    "Summarizing our earlier explanations on feature selection, here is a screenshot of our feature correlation matrix, one of the most decisive factors in deciding which features to include and exclude:\n",
    "\n",
    "![alt text](https://mark-test-bucket-123.s3.amazonaws.com/Screen+Shot+2020-07-06+at+10.12.50+AM.png)\n",
    "\n",
    "Here is a screenshot of our Kaggle score:\n",
    "\n",
    "![alt text](https://mark-test-bucket-123.s3.amazonaws.com/Screen+Shot+2020-07-01+at+10.32.28+AM.png)\n",
    "\n",
    "Our top score is 3.4976, we are very pleased with these results."
   ]
  },
  {
   "cell_type": "code",
   "execution_count": null,
   "metadata": {},
   "outputs": [],
   "source": []
  }
 ],
 "metadata": {
  "colab": {
   "collapsed_sections": [],
   "name": "Project2.ipynb",
   "provenance": []
  },
  "kernelspec": {
   "display_name": "Python 3",
   "language": "python",
   "name": "python3"
  },
  "language_info": {
   "codemirror_mode": {
    "name": "ipython",
    "version": 3
   },
   "file_extension": ".py",
   "mimetype": "text/x-python",
   "name": "python",
   "nbconvert_exporter": "python",
   "pygments_lexer": "ipython3",
   "version": "3.7.1"
  }
 },
 "nbformat": 4,
 "nbformat_minor": 1
}
